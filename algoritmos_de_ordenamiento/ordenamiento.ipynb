{
 "cells": [
  {
   "cell_type": "markdown",
   "metadata": {},
   "source": [
    "## Algoritmos de ordenamiento "
   ]
  },
  {
   "cell_type": "markdown",
   "metadata": {},
   "source": [
    "#### - Bubble "
   ]
  },
  {
   "cell_type": "code",
   "execution_count": 12,
   "metadata": {},
   "outputs": [],
   "source": [
    "def bubble(lista:list)-> list:\n",
    "\n",
    "    for i in range(0,len(lista)-1):\n",
    "        it = False\n",
    "        while it == False: \n",
    "            it = True\n",
    "            if lista[i] > lista[i+1]:\n",
    "                ant = lista[i+1]\n",
    "                lista[i+1] = lista[i]\n",
    "                lista[i] = ant\n",
    "                it = False \n",
    "   \n",
    "    for j in range(0,len(lista)-1):\n",
    "        if lista[j]>lista[j+1]:\n",
    "            bubble(lista)        \n",
    "    return lista"
   ]
  },
  {
   "cell_type": "markdown",
   "metadata": {},
   "source": [
    "#### - Quicksort"
   ]
  },
  {
   "cell_type": "code",
   "execution_count": 2,
   "metadata": {},
   "outputs": [],
   "source": [
    "\n",
    "def quicksort(lista2:list)-> list:\n",
    "    \n",
    "    mayores = []\n",
    "    menores = []\n",
    "    ult = len(lista2)\n",
    "    \n",
    "    if ult <= 1:\n",
    "        return lista2\n",
    "    else:\n",
    "        piv = lista2.pop()\n",
    "\n",
    "    for i in lista2:\n",
    "        if i > piv:\n",
    "            mayores.append(i)\n",
    "        else:\n",
    "            menores.append(i)\n",
    "    return quicksort(menores) + [piv] + quicksort(mayores)\n",
    "    "
   ]
  },
  {
   "cell_type": "markdown",
   "metadata": {},
   "source": [
    "#### - Heapsort "
   ]
  },
  {
   "cell_type": "code",
   "execution_count": 3,
   "metadata": {},
   "outputs": [],
   "source": [
    "def h(lista3,i):\n",
    "    if (2*i+2) <= len(lista3)-1:\n",
    "        if lista3[2*i+1] <= lista3[2*i+2]:\n",
    "            menor = 2*i+1\n",
    "        else:\n",
    "            menor = 2*i+2\n",
    "       \n",
    "        if lista3[i] > lista3[menor]:\n",
    "            var=lista3[i]\n",
    "            lista3[i] = lista3[menor]\n",
    "            lista3[menor] = var\n",
    "            h(lista3,menor)\n",
    "            \n",
    "    elif (2*i+1) <= len(lista3)-1:\n",
    "        if lista3[i] > lista3[2*i+1]:\n",
    "            var = lista3[i]\n",
    "            lista3[i] = lista3[2*i+1]\n",
    "            lista3[2*i+1] = var \n",
    "    return lista3\n",
    "\n",
    "    \n",
    "def heapsort(lista3:list)-> list:\n",
    "    \n",
    "    lista=[]\n",
    "\n",
    "    for i in range(len(lista3)//2-1,-1,-1):\n",
    "        lista3 =  h(lista3,i)\n",
    "    \n",
    "    for i in range(0,len(lista3)):\n",
    "        var= lista3[0]\n",
    "\n",
    "        lista3[0]=lista3[len(lista3)-1]\n",
    "        lista3[len(lista3)-1] = var \n",
    "        lista.append(var)\n",
    "        lista3 = lista3[:len(lista3)-1]\n",
    "        lista3 = h(lista3,0)\n",
    "\n",
    "    return lista\n"
   ]
  },
  {
   "cell_type": "markdown",
   "metadata": {},
   "source": [
    "## Función de ordenamiento "
   ]
  },
  {
   "cell_type": "code",
   "execution_count": 4,
   "metadata": {},
   "outputs": [],
   "source": [
    "\n",
    "from random import randint\n",
    "def ordenamiento(n:int,m:int)->list:\n",
    "    \"\"\"Esta función crea una lista ordenada de numeros aleatorios entre el 0 y el 1000\n",
    "\n",
    "    Args:\n",
    "        n (int): Número de elementos de la lista\n",
    "        m (int): Si m=1 se usa bubble, Si m=2 se usa quicksort, Si m=3 se usa heapsort\n",
    "    \"\"\"\n",
    "    lista4 = []\n",
    "\n",
    "    for i in range(0,n):\n",
    "        lista4.append(randint(0,1000))\n",
    "\n",
    "    if (m == 1):\n",
    "        R = bubble(lista4)\n",
    "        r = \"bubble\"\n",
    "    elif (m == 2):\n",
    "        R = quicksort(lista4)\n",
    "        r = \"quicksort\"\n",
    "    elif (m == 3):\n",
    "        R = heapsort(lista4)\n",
    "        r = \"heapsort\"\n",
    "    else:\n",
    "        raise Exception(\"Metodo no disponible\")\n",
    "    print(R)\n",
    "    print(r)\n",
    "    "
   ]
  },
  {
   "cell_type": "markdown",
   "metadata": {},
   "source": [
    "## Prueba de funcionamiento"
   ]
  },
  {
   "cell_type": "code",
   "execution_count": 5,
   "metadata": {},
   "outputs": [
    {
     "name": "stdout",
     "output_type": "stream",
     "text": [
      "[64, 85, 134, 136, 144, 167, 266, 348, 476, 547, 566, 628, 694, 772, 787, 802, 802, 810, 844, 997]\n",
      "bubble\n"
     ]
    }
   ],
   "source": [
    "ordenamiento(20,1)"
   ]
  },
  {
   "cell_type": "code",
   "execution_count": 6,
   "metadata": {},
   "outputs": [
    {
     "name": "stdout",
     "output_type": "stream",
     "text": [
      "[2, 2, 3, 16, 38, 51, 71, 131, 141, 150, 150, 165, 171, 171, 206, 221, 233, 243, 248, 308, 366, 421, 425, 456, 464, 472, 496, 502, 504, 542, 584, 594, 632, 654, 714, 787, 813, 818, 853, 866, 870, 870, 872, 922, 927, 936, 946, 954, 985, 1000]\n",
      "quicksort\n"
     ]
    }
   ],
   "source": [
    "ordenamiento(50,2)"
   ]
  },
  {
   "cell_type": "code",
   "execution_count": 7,
   "metadata": {},
   "outputs": [
    {
     "name": "stdout",
     "output_type": "stream",
     "text": [
      "[78, 146, 283, 369, 391, 415, 463, 626, 639, 653, 686, 725, 765, 986, 998]\n",
      "heapsort\n"
     ]
    }
   ],
   "source": [
    "ordenamiento(15,3)"
   ]
  }
 ],
 "metadata": {
  "kernelspec": {
   "display_name": "Python 3.10.4 ('tsc': venv)",
   "language": "python",
   "name": "python3"
  },
  "language_info": {
   "codemirror_mode": {
    "name": "ipython",
    "version": 3
   },
   "file_extension": ".py",
   "mimetype": "text/x-python",
   "name": "python",
   "nbconvert_exporter": "python",
   "pygments_lexer": "ipython3",
   "version": "3.10.7"
  },
  "orig_nbformat": 4,
  "vscode": {
   "interpreter": {
    "hash": "507f3655e873e413e2dd862c295f761e22895940c99787767cd36c15b87def7a"
   }
  }
 },
 "nbformat": 4,
 "nbformat_minor": 2
}
